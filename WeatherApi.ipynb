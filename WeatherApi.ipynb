{
  "nbformat": 4,
  "nbformat_minor": 0,
  "metadata": {
    "colab": {
      "provenance": [],
      "authorship_tag": "ABX9TyMdq1shIIV3hKYbOPABX+DW",
      "include_colab_link": true
    },
    "kernelspec": {
      "name": "python3",
      "display_name": "Python 3"
    },
    "language_info": {
      "name": "python"
    }
  },
  "cells": [
    {
      "cell_type": "markdown",
      "metadata": {
        "id": "view-in-github",
        "colab_type": "text"
      },
      "source": [
        "<a href=\"https://colab.research.google.com/github/Apurva1205/Python/blob/master/WeatherApi.ipynb\" target=\"_parent\"><img src=\"https://colab.research.google.com/assets/colab-badge.svg\" alt=\"Open In Colab\"/></a>"
      ]
    },
    {
      "cell_type": "code",
      "execution_count": 10,
      "metadata": {
        "colab": {
          "base_uri": "https://localhost:8080/"
        },
        "id": "A1FTrPYPdqfv",
        "outputId": "aa1d5a2d-237d-4656-cf41-8ecd4fd7425d"
      },
      "outputs": [
        {
          "output_type": "stream",
          "name": "stdout",
          "text": [
            "Enter the city name: Delhi\n",
            "Weather forecast for Delhi:\n",
            "Date and Time: 2023-06-04 08:26:26\n",
            "Weather: Haze\n",
            "Description: haze\n",
            "Temperature: 31.05 °C / 87.89 °F\n",
            "Humidity: 58%\n",
            "Wind Speed: 1.03 m/s\n"
          ]
        }
      ],
      "source": [
        "import requests\n",
        "import json\n",
        "from datetime import datetime\n",
        "\n",
        "API_KEY = \"cc37a6f7e541ffc0922a97b991831924\"\n",
        "\n",
        "def get_weather(city):\n",
        "    url = f\"http://api.openweathermap.org/data/2.5/weather?q={city}&appid={API_KEY}\"\n",
        "\n",
        "    try:\n",
        "        response = requests.get(url)\n",
        "        response.raise_for_status()\n",
        "        data = response.json()\n",
        "\n",
        "        # Extract relevant weather information\n",
        "        weather = data[\"weather\"][0][\"main\"]\n",
        "        description = data[\"weather\"][0][\"description\"]\n",
        "        temperature = data[\"main\"][\"temp\"]\n",
        "        humidity = data[\"main\"][\"humidity\"]\n",
        "        wind_speed = data[\"wind\"][\"speed\"]\n",
        "\n",
        "        # Convert temperature from Kelvin to Celsius and Fahrenheit\n",
        "        temperature_celsius = round(temperature - 273.15, 2)\n",
        "        temperature_fahrenheit = round((temperature - 273.15) * 9/5 + 32, 2)\n",
        "\n",
        "        # Format date and time\n",
        "        timestamp = data[\"dt\"]\n",
        "        date_time = datetime.fromtimestamp(timestamp).strftime(\"%Y-%m-%d %H:%M:%S\")\n",
        "\n",
        "        # Print weather forecast with additional details\n",
        "        print(f\"Weather forecast for {city}:\")\n",
        "        print(f\"Date and Time: {date_time}\")\n",
        "        print(f\"Weather: {weather}\")\n",
        "        print(f\"Description: {description}\")\n",
        "        print(f\"Temperature: {temperature_celsius} °C / {temperature_fahrenheit} °F\")\n",
        "        print(f\"Humidity: {humidity}%\")\n",
        "        print(f\"Wind Speed: {wind_speed} m/s\")\n",
        "\n",
        "    except requests.exceptions.RequestException as e:\n",
        "        print(\"An error occurred while fetching weather data:\", e)\n",
        "\n",
        "if __name__ == \"__main__\":\n",
        "    city_name = input(\"Enter the city name: \")\n",
        "    get_weather(city_name)\n"
      ]
    }
  ]
}